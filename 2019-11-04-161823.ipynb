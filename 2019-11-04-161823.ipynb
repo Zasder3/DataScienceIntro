{
 "cells": [
  {
   "cell_type": "markdown",
   "metadata": {
    "collapsed": false
   },
   "source": [
    "# **Begin Lesson**"
   ]
  },
  {
   "cell_type": "markdown",
   "metadata": {
    "collapsed": false
   },
   "source": [
    "## What is a Jupyter Notebook"
   ]
  },
  {
   "cell_type": "markdown",
   "metadata": {
    "collapsed": false
   },
   "source": [
    "### Jupyter\n",
    "Jupyter is an environment that can run python/a few other languages, display raw text, or display Markdown in a series of modules. The code modules can be run one at a time or sequentially and they will produce an output. This document is an example of a Jupyter Notebook. Any variables that are intialized will be stored until the kernal is reset.\n",
    "For example,\n",
    "\n",
    "##### Module one:\n",
    "```\n",
    "x=0\n",
    "```\n",
    "##### Module two:\n",
    "```\n",
    "x+=1\n",
    "print(x)\n",
    "```\n",
    "\n",
    "\n",
    "If module two is ran first, an error will occur as x has not been initialized, but is one is ran first and then two is ran, 1 will be printed. After that, is two is ran, 2 will be printed.\n",
    "\n",
    "In order to uninitialize all the variables, restart the kernal by pressing kernal>restart kernal in the menu bar above."
   ]
  },
  {
   "cell_type": "code",
   "execution_count": 0,
   "metadata": {
    "collapsed": false
   },
   "outputs": [
   ],
   "source": [
    "#run this second\n",
    "x"
   ]
  },
  {
   "cell_type": "code",
   "execution_count": 0,
   "metadata": {
    "collapsed": false
   },
   "outputs": [
   ],
   "source": [
    "#run this first\n",
    "x = 1"
   ]
  },
  {
   "cell_type": "markdown",
   "metadata": {
    "collapsed": false
   },
   "source": [
    "#### Markdown\n",
    "Markdown is the language that we are currently using to write these display cells. You can see a lot of the operations available in https://github.com/adam-p/markdown-here/wiki/Markdown-Cheatsheet as a quick start. Another very special property about markdown is that it allows you to use Latex.\n",
    "\n",
    "Latex is a mathematical language that allows you to properly write and format mathematical equations like the following.\n",
    "\n",
    "\\[z(t_1) = z(t_0) + \\int_{t_0}^{t_1} f(\\theta, t) dt \\]\n",
    "\n",
    "Now try it on your own; make a markdown cell with a header, body text, and add an image and video to the mix."
   ]
  },
  {
   "cell_type": "markdown",
   "metadata": {
    "collapsed": false
   },
   "source": [
    "**Edit me**"
   ]
  },
  {
   "cell_type": "markdown",
   "metadata": {
    "collapsed": false
   },
   "source": [
    "# Matrix Maths\n",
    "A matrix is sort of like an array but for maths.\n",
    "They are numbers arranged in different sized rectangles, which can be added, subtracted, and multiplied.\n",
    "\n",
    "\n",
    "\n",
    "\n",
    "![img](https://image.slidesharecdn.com/matrix-130924233933-phpapp01/95/linear-algebra-and-matrix-8-638.jpg?cb=1380066049)\n",
    "![Segment Local](https://upload.wikimedia.org/wikipedia/commons/8/86/Matrix_multiplication_.gif)\n",
    "\n",
    "$$f(\\begin{bmatrix} a & b \\\\ c & d\\end{bmatrix}) = \\begin{bmatrix} f(a) & f(b) \\\\ f(c) & f(d)\\end{bmatrix}$$"
   ]
  },
  {
   "cell_type": "markdown",
   "metadata": {
    "collapsed": false
   },
   "source": [
   ]
  },
  {
   "cell_type": "markdown",
   "metadata": {
    "collapsed": false
   },
   "source": [
    "## What is Numpy and Matplotlib\n",
    "Numpy and Matplotlib are the 2 core libraries in basic scientific computation in python. Numpy does the math and Matplotlib does the graphics."
   ]
  },
  {
   "cell_type": "markdown",
   "metadata": {
    "collapsed": false
   },
   "source": [
    "#### How do I import them to use?"
   ]
  },
  {
   "cell_type": "code",
   "execution_count": 4,
   "metadata": {
    "collapsed": false
   },
   "outputs": [
   ],
   "source": [
    "#standard conventions that shall not be broken\n",
    "import numpy as np\n",
    "import matplotlib.pyplot as plt"
   ]
  },
  {
   "cell_type": "markdown",
   "metadata": {
    "collapsed": false
   },
   "source": [
    "## How does Numpy work?\n",
    "So what use is this whole Numpy thing anyway? A lot in terms of data science and math! Numpy allows for fast matrix multiplication and calculation. It serves as the gold standard of numerical calculation for science.\n",
    "\n",
    "\n",
    "Let's start with a basic 2x2 matrix of ones. We can create this with the following code:\n",
    "\n",
    "```mat = np.ones([2, 2])```"
   ]
  },
  {
   "cell_type": "code",
   "execution_count": 0,
   "metadata": {
    "collapsed": false
   },
   "outputs": [
   ],
   "source": [
   ]
  },
  {
   "cell_type": "code",
   "execution_count": 5,
   "metadata": {
    "collapsed": false
   },
   "outputs": [
    {
     "ename": "NameError",
     "evalue": "name 'mat' is not defined",
     "output_type": "error",
     "traceback": [
      "\u001b[0;31m---------------------------------------------------------------------------\u001b[0m",
      "\u001b[0;31mNameError\u001b[0m                                 Traceback (most recent call last)",
      "\u001b[0;32m<ipython-input-5-bbc0f6db09c1>\u001b[0m in \u001b[0;36m<module>\u001b[0;34m\u001b[0m\n\u001b[0;32m----> 1\u001b[0;31m \u001b[0mprint\u001b[0m\u001b[0;34m(\u001b[0m\u001b[0mmat\u001b[0m\u001b[0;34m)\u001b[0m\u001b[0;34m\u001b[0m\u001b[0;34m\u001b[0m\u001b[0m\n\u001b[0m",
      "\u001b[0;31mNameError\u001b[0m: name 'mat' is not defined"
     ]
    }
   ],
   "source": [
    "print(mat)"
   ]
  },
  {
   "cell_type": "markdown",
   "metadata": {
    "collapsed": false
   },
   "source": [
    "How can we access certain elements in this matrix and see what its shape is?\n",
    "1. Matrices are accessed like 2D arrays where you can do `mat[row][column]`\n",
    "1. You can view the shape with `mat.shape`\n",
    "\n",
    "Change the 2nd row and first column of `mat` to a 2 then print "
   ]
  },
  {
   "cell_type": "markdown",
   "metadata": {
    "collapsed": false
   },
   "source": [
    "Now that we have a basic matrix let's do some operations with it."
   ]
  },
  {
   "cell_type": "code",
   "execution_count": 0,
   "metadata": {
    "collapsed": false
   },
   "outputs": [
   ],
   "source": [
    "matAdd = ____ #add mat to mat\n",
    "matSub = ____ #subract mat from mat\n",
    "\n",
    "matConstantMultiply = ____ #multiply mat times any constant\n",
    "matConstantDivide = ____ #divide mat by any constant\n",
    "\n",
    "print(matAdd)\n",
    "print(matSub)\n",
    "print(matConstantMultiply)\n",
    "print(matConstantDivide)"
   ]
  },
  {
   "cell_type": "markdown",
   "metadata": {
    "collapsed": false
   },
   "source": [
    "Now we will define our own matrix using numpy. We can write `A = np.array()` and insert any matrix representing array.\n",
    "\n",
    "Using this let's try to multiply these matrices to see if we can verify the results\n",
    "![img](http://thejuniverse.org/PUBLIC/LinearAlgebra/LOLA/matCalc/nonCom.png)\n",
    "\n",
    "$AB$ is equivalent to `A @ B` in numpy"
   ]
  },
  {
   "cell_type": "code",
   "execution_count": 0,
   "metadata": {
    "collapsed": false
   },
   "outputs": [
   ],
   "source": [
    "A = np.array([[1, 0], [2, 1]])\n",
    "B = _____\n",
    "#print AB and BA\n",
    "print(___)\n",
    "print(___)"
   ]
  },
  {
   "cell_type": "markdown",
   "metadata": {
    "collapsed": false
   },
   "source": [
    "Numpy has many useful built in arrays. You can use `np.ones` to create a matrix of ones; `np.zeros` to create a matrix of zeros; `np.random.randn` to create a matrix of normally distributed random numbers; and `np.random.rand` to create uniformly distributed random numbers.\n",
    "\n",
    "Numpy also has tons of built in mathematical functions and constants. It has $\\pi$ as `np.pi` as well as a majority of math functions available with just the call of `np.[name]`\n",
    "\n",
    "Try it out now and create the matrix $C = \\begin{bmatrix} 0 & \\pi / 2 \\\\ \\pi & 3\\pi/2 \\end{bmatrix}$ and try to find $\\sin(C), \\cos(C), \\tan(C)$"
   ]
  },
  {
   "cell_type": "code",
   "execution_count": 0,
   "metadata": {
    "collapsed": false
   },
   "outputs": [
   ],
   "source": [
   ]
  },
  {
   "cell_type": "markdown",
   "metadata": {
    "collapsed": false
   },
   "source": [
    "A final and important operation is concatenation where you smash 2 matrices together. In numpy you can concatenate a list of matrices by doing `np.concatenate([...], axis=?)` where the axis = which direction to add the matrix on with.\n",
    "\n",
    "Create a 2x2 matrix of `np.ones` and a 2x2 matrix of `np.zeros` and see what happens when you concatenate them and change the axis."
   ]
  },
  {
   "cell_type": "code",
   "execution_count": 0,
   "metadata": {
    "collapsed": false
   },
   "outputs": [
   ],
   "source": [
   ]
  },
  {
   "cell_type": "markdown",
   "metadata": {
    "collapsed": false
   },
   "source": [
    "## How does Matplotlib work?"
   ]
  },
  {
   "cell_type": "markdown",
   "metadata": {
    "collapsed": false
   },
   "source": [
    "`matplotlib` is a Python library commonly used for graphing and visualizing data. We'll be learning 2 core commands today: `plt.plot` and `plt.scatter`\n",
    "Let's take a look at `plt.plot` first. \n",
    "`plt.plot` plots y versus x as lines and/or markers.\n",
    "Remember that we can now refer to matplotlib.pyplot as plt because of our previous import statement. Check out https://matplotlib.org/3.1.1/api/_as_gen/matplotlib.pyplot.plot.html for more information\n"
   ]
  },
  {
   "cell_type": "code",
   "execution_count": 10,
   "metadata": {
    "collapsed": false
   },
   "outputs": [
    {
     "data": {
      "image/png": "[encoded data removed]",
      "text/plain": [
       "<Figure size 432x288 with 1 Axes>"
      ]
     },
     "execution_count": 10,
     "metadata": {
      "image/png": {
       "height": 277,
       "width": 382
      }
     },
     "output_type": "execute_result"
    }
   ],
   "source": [
    "#Now before we dive into data visualization, we need some of the datasss!!\n",
    "#Fill in the 3 lists below with 10 relatively reasonable and close numbers\n",
    "#here's an example list in python: list_example = [2,3,3,3,3,3,2,1,2,3]\n",
    "time =[]\n",
    "money =[]\n",
    "energy =[]\n",
    "age=[]\n",
    "#Good job, now we can try to use plt.plot() Uncomment the next 5 lines by deleting the # at the start of each of them and run the cell to see what happens\n",
    "#plt.title(\"Money versus Time\")\n",
    "#plt.xlabel(\"Time\")\n",
    "#plt.ylabel(\"Money\")\n",
    "#plt.plot(time, money)\n",
    "#plt.show()\n",
    "#Great job! You just graphed the money versus time graph! A.k.a. money as a function of time.\n",
    "#1. plot([x], y, [fmt], *, data=None, **kwargs)\n",
    "#2. plot([x], y, [fmt], [x2], y2, [fmt2], ..., **kwargs)\n",
    "#You just used the second version of plt.plot()"
   ]
  },
  {
   "cell_type": "code",
   "execution_count": 13,
   "metadata": {
    "collapsed": false
   },
   "outputs": [
    {
     "data": {
      "image/png": "[encoded data removed]",
      "text/plain": [
       "<Figure size 432x288 with 1 Axes>"
      ]
     },
     "execution_count": 13,
     "metadata": {
      "image/png": {
       "height": 248,
       "width": 369
      }
     },
     "output_type": "execute_result"
    }
   ],
   "source": [
    "#Ok let's try some more advanced uses of plt.plot()\n",
    "#Replace X and Y with a list from the previous cell. \n",
    "#Feel free to replace the color values (color can be assigned by the keywords `color` and `c`)\n",
    "#Uncomment the next line now and run the cell. then comment it out\n",
    "#plt.plot(X, Y, c='purple', linestyle='--') #linestyle ='--' causes a dashed line to be created\n",
    "#Now uncomment the following line and run the cell\n",
    "#plt.plot(X, Y, color='#82edc9', marker='s') #marker ='s' causes the points to be marked by a square\n",
    "plt.show()"
   ]
  },
  {
   "cell_type": "markdown",
   "metadata": {
    "collapsed": false
   },
   "source": [
    "Now let's take a look at plt.scatter()!!\n",
    "plt.scatter() is used to create a scatter plot of y vs x with varying marker size and/or color\n",
    "\n",
    "matplotlib.pyplot.scatter(x, y, s=None, c=None, marker=None, cmap=None, norm=None, vmin=None, vmax=None, alpha=None, linewidths=None, verts=None, edgecolors=None, *, plotnonfinite=False, data=None, **kwargs)\n",
    "check out https://matplotlib.org/3.1.1/api/_as_gen/matplotlib.pyplot.scatter.html for more info\n"
   ]
  },
  {
   "cell_type": "code",
   "execution_count": 21,
   "metadata": {
    "collapsed": false
   },
   "outputs": [
    {
     "data": {
      "image/png": "[encoded data removed]",
      "text/plain": [
       "<Figure size 432x288 with 1 Axes>"
      ]
     },
     "execution_count": 21,
     "metadata": {
      "image/png": {
       "height": 248,
       "width": 369
      }
     },
     "output_type": "execute_result"
    }
   ],
   "source": [
    "#replace x and y with a list from before. Uncomment the second line and see what happends when you run the cell, then comment it out and uncomment the third line and run the cell again to see what happens. \n",
    "#plt.scatter(x, y)\n",
    "#plt.scatter(x, y, c=[])\n",
    "#you got an empty graph! Well that's because we need to fill in 10 colors in the c list to provide the scatter function with the colors of each point.\n",
    "plt.show()\n"
   ]
  },
  {
   "cell_type": "markdown",
   "metadata": {
    "collapsed": false
   },
   "source": [
    "## Great job! You just got the basics of matplotlib!\n",
    "## here's two hand-crafted graphs for inspiration of further studies ${EdwardKang}^{TM}$\n"
   ]
  },
  {
   "cell_type": "code",
   "execution_count": 28,
   "metadata": {
    "collapsed": false
   },
   "outputs": [
    {
     "data": {
      "image/png": "[encoded data removed]",
      "text/plain": [
       "<Figure size 432x288 with 1 Axes>"
      ]
     },
     "execution_count": 28,
     "metadata": {
      "image/png": {
       "height": 248,
       "width": 190
      }
     },
     "output_type": "execute_result"
    },
    {
     "data": {
      "image/png": "[encoded data removed]",
      "text/plain": [
       "<Figure size 432x288 with 1 Axes>"
      ]
     },
     "execution_count": 28,
     "metadata": {
      "image/png": {
       "height": 248,
       "width": 190
      }
     },
     "output_type": "execute_result"
    }
   ],
   "source": [
    "plt.subplot(1,2,1)\n",
    "x = [0,0,0,10,10,3,3,10,10,0]\n",
    "y =[11,3,0,0,3,3,8,8,11,11]\n",
    "plt.plot(x,y,color ='blue',marker='s')\n",
    "plt.fill(x,y)\n",
    "plt.show()\n",
    "plt.subplot(1,2,2)\n",
    "w = [0,0,7,7,0,0,10,10,4,4,10,10,0]\n",
    "z=[0,2,2,5,5,11,11,9,9,7,7,0,0]\n",
    "plt.plot(w, z, color='yellow', marker='o')\n",
    "plt.fill(w,z, color='yellow')\n",
    "plt.show()"
   ]
  },
  {
   "cell_type": "markdown",
   "metadata": {
    "collapsed": false
   },
   "source": [
    "## Putting it all together with **Linear Regression**\n",
    "Linear regression is the process of fitting a line to data. We will do linear regression with 2 variables.\n",
    "\n",
    "#### Generating and Visualizing Data\n",
    "Here we shall generate a sample dataset and then plot it with our newly acquired matplotlib skills."
   ]
  },
  {
   "cell_type": "code",
   "execution_count": 0,
   "metadata": {
    "collapsed": false
   },
   "outputs": [
   ],
   "source": [
    "n = 50 # the number of data points\n",
    "X = np.linspace(-5, 5, n).reshape([n, 1]) + np.random.randn(n, 1)\n",
    "y = 0.5 * X + 1 + np.random.randn(n, 1)\n",
    "\n",
    "plt.scatter(X, y)"
   ]
  },
  {
   "cell_type": "markdown",
   "metadata": {
    "collapsed": false
   },
   "source": [
    "#### Problem definition\n",
    "We are tasked with creating predictions that we will call `y_hat` or $\\hat{y}$ based on x. We will think of $\\hat{y}$ in the form of $\\hat{y}= mx+b$. Our goal is to find the best $m$ and $b$ that fits our data.\n",
    "\n",
    "To solve this problem using our new skills we can slightly change $\\hat{y} = mx+b$ into a matrix based equation where $m$ and $b$ are represented by the matrix $\\beta = \\begin{bmatrix} b \\\\ m \\end{bmatrix}$. Now to fix up our data a little bit in order to do matrix multiplication we need a slight tweak to $X$. We will create an $X_{new}$ such that:\n",
    "\\[\n",
    "\\begin{gather}\n",
    "X = \\begin{bmatrix} x_0 \\\\ x_1 \\\\ x_2 \\\\ \\vdots \\end{bmatrix} \\\\\n",
    "X_{new} = 1 \\frown X = \\begin{bmatrix} 1 & x_0 \\\\ 1 & x_1 \\\\ 1 & x_2 \\\\ \\vdots & \\vdots \\end{bmatrix}\n",
    "\\end{gather}\n",
    "\\]\n",
    "\n",
    "This makes it so now when we do $\\hat{y} = X_{new}\\beta$. We get:\n",
    "\\[\n",
    "\\hat{y} = X_{new}\\beta = \\begin{bmatrix} 1 & x_0 \\\\ 1 & x_1 \\\\ \\vdots & \\vdots \\end{bmatrix}\\begin{bmatrix} b \\\\ m \\end{bmatrix} = \\begin{bmatrix} b\\cdot1 + mx_0 \\\\b\\cdot1 + mx_1 \\\\b\\cdot1 + mx_2 \\\\ \\vdots\\end{bmatrix} = \\begin{bmatrix} mx_0 + b \\\\ mx_1+b \\\\ mx_2 + b \\\\ \\vdots\\end{bmatrix}\n",
    "\\]\n",
    "\n",
    "*Note that $\\frown$ = `np.concat`"
   ]
  },
  {
   "cell_type": "code",
   "execution_count": 0,
   "metadata": {
    "collapsed": false
   },
   "outputs": [
   ],
   "source": [
    "X_new = np.concatenate([np.ones([n, 1]), X], axis=1)\n",
    "X_new[:5]"
   ]
  },
  {
   "cell_type": "markdown",
   "metadata": {
    "collapsed": false
   },
   "source": [
    "#### Experimentation\n",
    "This is where we advise you to try your own method in order to figure out a way to solve this problem. There are many approaches and possible ways to do it. If you can't think of any, try an implementation that does nothing intelligent other than randomly generate $\\beta$"
   ]
  },
  {
   "cell_type": "code",
   "execution_count": 0,
   "metadata": {
    "collapsed": false
   },
   "outputs": [
   ],
   "source": [
   ]
  },
  {
   "cell_type": "markdown",
   "metadata": {
    "collapsed": false
   },
   "source": [
    "#### Linear Algebra Method\n",
    "We start by defining a function that states how far our predictions are from the points so we say $\\mathcal{L} = (\\hat{y}-y)^2$ or $\\|\\hat{y} - y\\|^2$ (all of which are equal).\n",
    "\n",
    "Given this function if we want to minimize it we can see that there is a local minimum point where we would assume $\\hat{y}=0$.\n",
    "\n",
    "![x squared grpah](http://4.bp.blogspot.com/_2rQHiU1Thj0/S_l7DmWybrI/AAAAAAAAC9Y/vgrK6ewKjyM/s320/xSquaredGraph2.bmp)\n",
    "\n",
    "We can use calculus to find this point:\n",
    "\n",
    "![img](https://wikimedia.org/api/rest_v1/media/math/render/svg/6c89a3033c532ac14916be23c71cea9a3518095f)\n",
    "\n",
    "![img](https://wikimedia.org/api/rest_v1/media/math/render/svg/b39cb2c3001dad307e76df34b11c307500ec82a8)\n",
    "\n",
    "![img](https://wikimedia.org/api/rest_v1/media/math/render/svg/78ea18a6aabc3c2541d81ee31b5fb5340acc861a)\n",
    "\n",
    "A matrix $M^T$ is `M.T` and a matrix $M^-1$ is `np.linalg.pinv(M)`"
   ]
  },
  {
   "cell_type": "code",
   "execution_count": 0,
   "metadata": {
    "collapsed": false
   },
   "outputs": [
   ],
   "source": [
    "beta = np.linalg.pinv(X_new.T @ X_new) @ X_new.T @ y"
   ]
  },
  {
   "cell_type": "code",
   "execution_count": 6,
   "metadata": {
    "collapsed": false,
    "scrolled": true
   },
   "outputs": [
    {
     "ename": "NameError",
     "evalue": "name 'X' is not defined",
     "output_type": "error",
     "traceback": [
      "\u001b[0;31m---------------------------------------------------------------------------\u001b[0m",
      "\u001b[0;31mNameError\u001b[0m                                 Traceback (most recent call last)",
      "\u001b[0;32m<ipython-input-6-9eb16f457a08>\u001b[0m in \u001b[0;36m<module>\u001b[0;34m\u001b[0m\n\u001b[0;32m----> 1\u001b[0;31m \u001b[0mplt\u001b[0m\u001b[0;34m.\u001b[0m\u001b[0mplot\u001b[0m\u001b[0;34m(\u001b[0m\u001b[0mX\u001b[0m\u001b[0;34m,\u001b[0m \u001b[0mX_new\u001b[0m \u001b[0;34m@\u001b[0m \u001b[0mbeta\u001b[0m\u001b[0;34m,\u001b[0m \u001b[0mc\u001b[0m\u001b[0;34m=\u001b[0m\u001b[0;34m'r'\u001b[0m\u001b[0;34m)\u001b[0m\u001b[0;34m\u001b[0m\u001b[0;34m\u001b[0m\u001b[0m\n\u001b[0m\u001b[1;32m      2\u001b[0m \u001b[0mplt\u001b[0m\u001b[0;34m.\u001b[0m\u001b[0mscatter\u001b[0m\u001b[0;34m(\u001b[0m\u001b[0mX\u001b[0m\u001b[0;34m,\u001b[0m \u001b[0my\u001b[0m\u001b[0;34m)\u001b[0m\u001b[0;34m\u001b[0m\u001b[0;34m\u001b[0m\u001b[0m\n",
      "\u001b[0;31mNameError\u001b[0m: name 'X' is not defined"
     ]
    }
   ],
   "source": [
    "plt.plot(X, X_new @ beta, c='r')\n",
    "plt.scatter(X, y)"
   ]
  },
  {
   "cell_type": "code",
   "execution_count": 0,
   "metadata": {
    "collapsed": false
   },
   "outputs": [
   ],
   "source": [
   ]
  }
 ],
 "metadata": {
  "kernelspec": {
   "display_name": "Python 3 (system-wide)",
   "language": "python",
   "metadata": {
    "cocalc": {
     "description": "Python 3 programming language",
     "priority": 100,
     "url": "https://www.python.org/"
    }
   },
   "name": "python3"
  },
  "language_info": {
   "codemirror_mode": {
    "name": "ipython",
    "version": 3
   },
   "file_extension": ".py",
   "mimetype": "text/x-python",
   "name": "python",
   "nbconvert_exporter": "python",
   "pygments_lexer": "ipython3",
   "version": "3.6.8"
  }
 },
 "nbformat": 4,
 "nbformat_minor": 0
}